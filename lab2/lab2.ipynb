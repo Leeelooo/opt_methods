{
 "cells": [
  {
   "cell_type": "code",
   "execution_count": 1,
   "metadata": {
    "collapsed": true
   },
   "outputs": [],
   "source": [
    "import numpy as np\n"
   ]
  },
  {
   "cell_type": "code",
   "execution_count": null,
   "outputs": [],
   "source": [
    "\n",
    "def secant_method(x1,x2,df_x1,df_x2):\n",
    "    a = (df_x2 - df_x1)/(x2 - x1)\n",
    "    b = df_x1 - x1 * a\n",
    "    return -b/a\n",
    "\n",
    "def brent(f,df,start,end,eps=1e-5):\n",
    "    u = x = w = v = 0.5 * (start + end)\n",
    "    f_u = f_x = f_w = f_v = f(x)\n",
    "    df_u = df_x = df_w = df_v = df(x)\n",
    "    d = e = end - start\n",
    "\n",
    "    function_calls_number = 1\n",
    "    step_details = []\n",
    "\n",
    "    while True:\n",
    "        step_details.append([start, end, x, f_x, df_x, w, f_w, df_w, v, f_v, df_v, d, e, u, f_u, df_u])\n",
    "        g,e = e,d\n",
    "        candidates = []\n",
    "\n",
    "        if x != w and df_x != df_w:\n",
    "            u1 = secant_method(x,w,df_x,df_w)\n",
    "            if start + eps <= u1 <= end - eps and np.abs(u1 - x) < 0.5 * g:\n",
    "                candidates.append(u1)\n",
    "\n",
    "        if x != v and df_x != df_v:\n",
    "            u2 = secant_method(x,v,df_x,df_v)\n",
    "            if start + eps <= u2 <= end - eps and np.abs(u2 - x) < 0.5 * g:\n",
    "                candidates.append(u2)\n",
    "\n",
    "        if len(candidates) == 2:\n",
    "            u = candidates[0]\n",
    "        else:\n",
    "            if df_x > 0:\n",
    "                u = 0.5 * (start + x)\n",
    "            else:\n",
    "                u = 0.5 * (x + end)\n",
    "\n",
    "        if np.abs(u - x) < eps:\n",
    "            u = x + np.sign(u - x) * eps\n",
    "\n",
    "        d = np.abs(x - u)\n",
    "        f_u = f(u)\n",
    "        df_u = df(u)\n",
    "        function_calls_number += 1\n",
    "        if f_u <= f_x:\n",
    "            if u >= x:\n",
    "                start = x\n",
    "            else:\n",
    "                end = x\n",
    "            v,w,x = w,x,u\n",
    "            f_v,f_w,f_x = f_w,f_x,f_u\n",
    "            df_v,df_w,df_x = df_w,df_x,df_u\n",
    "        else:\n",
    "            if u >= x:\n",
    "                end = u\n",
    "            else:\n",
    "                start = u\n",
    "            if f_u <= f_w or w == x:\n",
    "                v,w = w,u\n",
    "                f_v,f_w = f_w,f_u\n",
    "                df_v,df_w = df_w,df_u\n",
    "            elif f_u <= f_v or v == x or v == w:\n",
    "                v = u\n",
    "                f_v = f_u\n",
    "                df_v = df_u\n",
    "\n",
    "            if abs(d - g) > eps and end - start != 0:\n",
    "                break\n",
    "\n",
    "    step_details.append([start, end, x, f_x, df_x, w, f_w, df_w, v, f_v, df_v, d, e])\n",
    "    return x, function_calls_number, step_details\n"
   ],
   "metadata": {
    "collapsed": false,
    "pycharm": {
     "name": "#%%\n"
    }
   }
  },
  {
   "cell_type": "code",
   "execution_count": null,
   "outputs": [],
   "source": [
    "def coordinate_descent(X0,f,df,eps=1e-5,max_iter=5e4):\n",
    "    step_details = []\n",
    "    args_count = len(X0)\n",
    "    alpha = 0 #TODO:???\n",
    "    k = 0\n",
    "\n",
    "    X = X0.copy()\n",
    "    step_details.append([X, None, f(X)])\n",
    "\n",
    "    while k < max_iter:\n",
    "        i = k % args_count\n",
    "        next_X = X.copy()\n",
    "        next_X[i] -= alpha*df(X, i)\n",
    "\n",
    "        step_details.append([next_X, X, f(X)])\n",
    "        prev_X, X = X, next_X\n",
    "        k += 1\n",
    "\n",
    "        if np.sum(np.abs(step_details[-1][-1] - step_details[-2][-1])) < eps:\n",
    "            break\n",
    "\n",
    "    return X, step_details\n"
   ],
   "metadata": {
    "collapsed": false,
    "pycharm": {
     "name": "#%%\n"
    }
   }
  },
  {
   "cell_type": "code",
   "execution_count": null,
   "outputs": [],
   "source": [
    "\n",
    "def golden_ratio(function,start,end,epsilon=1e-5):\n",
    "    phi = 0.5 * (3 - np.sqrt(5))\n",
    "\n",
    "    x1 = start + (end - start)*phi\n",
    "    x2 = end - (end - start)*phi\n",
    "\n",
    "    x1_value = function(x1)\n",
    "    x2_value = function(x2)\n",
    "\n",
    "    while end - start > epsilon:\n",
    "        if x1_value > x2_value:\n",
    "            start = x1\n",
    "            x1 = x2\n",
    "            x2 = end + start - x1\n",
    "            x1_value = x2_value\n",
    "            x2_value = function(x2)\n",
    "        else:\n",
    "            end = x2\n",
    "            x2 = x1\n",
    "            x1 = start + end - x2\n",
    "            x2_value = x1_value\n",
    "            x1_value = function(x1)\n",
    "\n",
    "    return 0.5 * (x1 + x2)\n",
    "\n",
    "\n",
    "def steepest_descent(X0,f,df,eps=1e-5,max_iter=5e4):\n",
    "    step_details = []\n",
    "    args_count = len(X0)\n",
    "    k = 0\n",
    "\n",
    "    X = X0.copy()\n",
    "\n",
    "    while k < max_iter:\n",
    "        g = np.array([df(X, i) for i in range(args_count)])\n",
    "        f_next_X = lambda a: X - a * g\n",
    "        alpha = golden_ratio(lambda a: f(f_next_X(a)), -10, 10, epsilon=eps)\n",
    "        next_X = f_next_X(alpha)\n",
    "\n",
    "        step_details.append([next_X, X, f(X)])\n",
    "        prev_X, X = X, next_X\n",
    "        k += 1\n",
    "\n",
    "        if np.sum(np.abs(step_details[-1][-1] - step_details[-2][-1])) < eps:\n",
    "            break\n",
    "\n",
    "    return X, step_details\n"
   ],
   "metadata": {
    "collapsed": false,
    "pycharm": {
     "name": "#%%\n"
    }
   }
  }
 ],
 "metadata": {
  "kernelspec": {
   "name": "pycharm-ed6a44e7",
   "language": "python",
   "display_name": "PyCharm (ml)"
  },
  "language_info": {
   "codemirror_mode": {
    "name": "ipython",
    "version": 2
   },
   "file_extension": ".py",
   "mimetype": "text/x-python",
   "name": "python",
   "nbconvert_exporter": "python",
   "pygments_lexer": "ipython2",
   "version": "2.7.6"
  }
 },
 "nbformat": 4,
 "nbformat_minor": 0
}