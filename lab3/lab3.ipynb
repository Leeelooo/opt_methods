{
 "cells": [
  {
   "cell_type": "code",
   "execution_count": 30,
   "metadata": {
    "collapsed": true
   },
   "outputs": [],
   "source": [
    "import numpy as np\n",
    "import scipy.linalg\n",
    "import tabulate"
   ]
  },
  {
   "cell_type": "code",
   "execution_count": 31,
   "outputs": [],
   "source": [
    "\n",
    "\n",
    "def _check_square(A):\n",
    "    assert len(A.shape) == 2, \"only 2d matrices are supported\"\n",
    "    assert A.shape[0] == A.shape[1], \"only nxn matrices are supported\"\n",
    "\n",
    "\n",
    "def lu_doolittle(A):\n",
    "    _check_square(A)\n",
    "\n",
    "    n = A.shape[0]\n",
    "\n",
    "    U = np.zeros((n, n), dtype=np.double)\n",
    "    L = np.eye(n, dtype=np.double)\n",
    "\n",
    "    with np.errstate(divide=\"ignore\", invalid=\"ignore\"):\n",
    "        for k in range(n):\n",
    "            U[k, k:] = A[k, k:] - L[k, :k] @ U[:k, k:]\n",
    "            L[(k+1):, k] = (A[(k+1):, k] - L[(k+1):, :] @ U[:, k]) / U[k, k]\n",
    "\n",
    "        L[~np.isfinite(L)] = 0\n",
    "\n",
    "    return L, U\n",
    "\n"
   ],
   "metadata": {
    "collapsed": false,
    "pycharm": {
     "name": "#%%\n"
    }
   }
  },
  {
   "cell_type": "code",
   "execution_count": 32,
   "outputs": [],
   "source": [
    "\n",
    "\n",
    "def noisy_matrix(n):\n",
    "    np.random.seed(59005)\n",
    "\n",
    "    matrix = -np.random.choice(5, size=(n, n)).astype(np.double)\n",
    "    for i in range(n):\n",
    "        matrix[i, i] = -(np.sum(matrix[i]) - matrix[i, i]) + 10 ** -n\n",
    "\n",
    "    return matrix\n",
    "\n",
    "\n",
    "def hilbert_generator(n): return np.fromfunction(lambda i, j: 1 / (i + j + 1),\n",
    "                                                 (n, n), dtype=np.float)  # since we are starting from i=0 and j=0\n",
    "\n"
   ],
   "metadata": {
    "collapsed": false,
    "pycharm": {
     "name": "#%%\n"
    }
   }
  },
  {
   "cell_type": "code",
   "execution_count": 33,
   "metadata": {},
   "outputs": [
    {
     "output_type": "stream",
     "name": "stdout",
     "text": [
      "TEST LU Decomposition\n   error_my    error_lib\n-----------  -----------\n0            0\n0            4.44089e-16\n1.22933e-15  1.35064e-15\n2.16022e-15  2.38931e-15\n4.04169e-15  3.42961e-15\n6.98658e-15  7.66177e-15\n5.2079e-15   5.81255e-15\n4.16334e-17  2.77556e-17\n4.80741e-17  5.19259e-17\n7.07631e-17  6.245e-17\n8.35553e-17  7.75792e-17\n8.63885e-17  8.35553e-17\n================================================================================\n\n"
     ]
    }
   ],
   "source": [
    "\n",
    "\n",
    "def test_lu(A):\n",
    "    L, U = lu_doolittle(A)\n",
    "    A_1 = L @ U\n",
    "    error_1 = np.linalg.norm(A - A_1)\n",
    "\n",
    "    P, L, U = LU_FUNC(A)\n",
    "    error_2 = np.linalg.norm(A - P @ L @ U)\n",
    "\n",
    "    return error_1, error_2\n",
    "\n",
    "\n",
    "LU_FUNC = scipy.linalg.lu\n",
    "\n",
    "\n",
    "LU_TESTS = [\n",
    "    (\"LU Decomposition\", test_lu, (\n",
    "        (np.array([[1, 0, 3], [0, 3, 1], [0, 0, 6]]),),\n",
    "        (np.array([[1, 4, 5], [6, 8, 22], [32, 5, 5]]),),\n",
    "        (noisy_matrix(5),),\n",
    "        (noisy_matrix(7),),\n",
    "        (noisy_matrix(9),),\n",
    "        (noisy_matrix(11),),\n",
    "        (noisy_matrix(13),),\n",
    "        (hilbert_generator(5),),\n",
    "        (hilbert_generator(7),),\n",
    "        (hilbert_generator(9),),\n",
    "        (hilbert_generator(11),),\n",
    "        (hilbert_generator(13),)\n",
    "    ))\n",
    "]\n",
    "\n",
    "\n",
    "for name, func, args in LU_TESTS:\n",
    "    results = []\n",
    "    print(f\"TEST {name}\")\n",
    "    for A in args:\n",
    "        results.append(func(*A))\n",
    "    print(tabulate.tabulate(results, headers=[\"error_my\", \"error_lib\"]))\n",
    "    print(\"=\"*80)\n",
    "    print()\n",
    "\n"
   ]
  },
  {
   "cell_type": "code",
   "execution_count": 34,
   "metadata": {},
   "outputs": [],
   "source": [
    "\n",
    "\n",
    "def forward_substitution(L, b):\n",
    "    _check_square(L)\n",
    "    assert L.shape[0] == b.shape[0]\n",
    "\n",
    "    n = L.shape[0]\n",
    "    y = np.zeros_like(b, dtype=np.double)\n",
    "\n",
    "    y[0] = b[0] / L[0, 0]\n",
    "\n",
    "    for i in range(1, n):\n",
    "        y[i] = (b[i] - np.dot(L[i, :i], y[:i])) / L[i, i]\n",
    "\n",
    "    return y\n",
    "\n",
    "\n",
    "def back_substitution(U, y):\n",
    "    _check_square(U)\n",
    "    assert U.shape[0] == y.shape[0]\n",
    "\n",
    "    n = U.shape[0]\n",
    "    x = np.zeros_like(y, dtype=np.double)\n",
    "\n",
    "    x[-1] = y[-1] / U[-1, -1]\n",
    "\n",
    "    for i in range(n-2, -1, -1):\n",
    "        x[i] = (y[i] - np.dot(U[i, i:], x[i:])) / U[i, i]\n",
    "\n",
    "    return x\n",
    "\n",
    "\n",
    "def lu_solve(A, b):\n",
    "    assert A.shape[0] == b.shape[0]\n",
    "\n",
    "    L, U = lu_doolittle(A)\n",
    "\n",
    "    y = forward_substitution(L, b)\n",
    "\n",
    "    return back_substitution(U, y)\n",
    "\n"
   ]
  },
  {
   "cell_type": "code",
   "execution_count": 35,
   "metadata": {},
   "outputs": [
    {
     "output_type": "stream",
     "name": "stdout",
     "text": [
      "TEST LU Solve\n   error_my    error_lib\n-----------  -----------\n0            0\n7.32411e-15  8.56528e-15\n2.16103e-14  1.42109e-14\n4.43734e-14  2.30926e-14\n6.47335e-14  7.14087e-14\n9.9476e-14   1.01734e-13\n6.28037e-16  0\n4.44089e-16  4.44089e-16\n1.53837e-15  1.25607e-15\n2.80867e-15  2.03507e-15\n7.5886e-15   3.76822e-15\n================================================================================\n\n"
     ]
    }
   ],
   "source": [
    "\n",
    "\n",
    "def test_solve(A, b):\n",
    "    x = lu_solve(A, b)\n",
    "    error_my = np.linalg.norm(A @ x - b)\n",
    "    error_lib = np.linalg.norm(A @ scipy.linalg.solve(A, b) - b)\n",
    "\n",
    "    return error_my, error_lib\n",
    "\n",
    "\n",
    "SOLVE_TESTS = [\n",
    "    (\"LU Solve\", test_solve, (\n",
    "        (\n",
    "            (np.array([[1, 4, 5], [6, 8, 22], [32, 5, 5]]),\n",
    "             np.array([1, 2, 3.]))\n",
    "        ),\n",
    "        (\n",
    "            (noisy_matrix(5), np.dot(noisy_matrix(5), np.arange(1, 6)))\n",
    "        ),\n",
    "        (\n",
    "            (noisy_matrix(7), np.dot(noisy_matrix(7), np.arange(1, 8)))\n",
    "        ),\n",
    "        (\n",
    "            (noisy_matrix(9), np.dot(noisy_matrix(9), np.arange(1, 10)))\n",
    "        ),\n",
    "        (\n",
    "            (noisy_matrix(11), np.dot(noisy_matrix(11), np.arange(1, 12)))\n",
    "        ),\n",
    "        (\n",
    "            (noisy_matrix(13), np.dot(noisy_matrix(13), np.arange(1, 14)))\n",
    "        ),\n",
    "        (\n",
    "            (hilbert_generator(5), np.dot(hilbert_generator(5), np.arange(1, 6)))\n",
    "        ),\n",
    "        (\n",
    "            (hilbert_generator(7), np.dot(hilbert_generator(7), np.arange(1, 8)))\n",
    "        ),\n",
    "        (\n",
    "            (hilbert_generator(9), np.dot(hilbert_generator(9), np.arange(1, 10)))\n",
    "        ),\n",
    "        (\n",
    "            (hilbert_generator(11), np.dot(hilbert_generator(11), np.arange(1, 12)))\n",
    "        ),\n",
    "        (\n",
    "            (hilbert_generator(13), np.dot(hilbert_generator(13), np.arange(1, 14)))\n",
    "        )\n",
    "    ))\n",
    "]\n",
    "\n",
    "\n",
    "for name, func, args in SOLVE_TESTS:\n",
    "    results = []\n",
    "    print(f\"TEST {name}\")\n",
    "    for A in args:\n",
    "        results.append(func(*A))\n",
    "    print(tabulate.tabulate(results, headers=[\"error_my\", \"error_lib\"]))\n",
    "    print(\"=\"*80)\n",
    "    print()\n",
    "\n"
   ]
  },
  {
   "cell_type": "code",
   "execution_count": 36,
   "metadata": {},
   "outputs": [],
   "source": [
    "\n",
    "\n",
    "def lu_inverse(A):\n",
    "    _check_square(A)\n",
    "\n",
    "    n = A.shape[0]\n",
    "\n",
    "    b = np.eye(n, dtype=np.double)\n",
    "    A_inv = np.zeros_like(A, dtype=np.double)\n",
    "\n",
    "    L, U = lu_doolittle(A)\n",
    "\n",
    "    for i in range(n):\n",
    "        y = forward_substitution(L, b[:, i])\n",
    "        A_inv[:, i] = back_substitution(U, y)\n",
    "\n",
    "    return A_inv\n",
    "\n"
   ]
  },
  {
   "cell_type": "code",
   "execution_count": 37,
   "metadata": {},
   "outputs": [
    {
     "output_type": "stream",
     "name": "stdout",
     "text": [
      "TEST LU Inverse\n   error_my    error_lib\n-----------  -----------\n2.77556e-17  2.77556e-17\n2.32253e-15  3.14631e-16\n9.44627e-11  9.00566e-11\n1.26059e-08  1.91538e-08\n2.00362e-06  2.39538e-06\n0.000338649  0.000275188\n0.0321888    0.0340475\n8.25478e-12  1.05584e-11\n3.74552e-09  8.23867e-09\n6.36571e-06  4.92949e-06\n0.00554747   0.00580983\n7.09535      4.03951\n================================================================================\n\n"
     ]
    }
   ],
   "source": [
    "\n",
    "\n",
    "def test_inv(A):\n",
    "    inv = lu_inverse(A)\n",
    "    # High mistake on small numbers\n",
    "    # inv_lib = scipy.linalg.inv(A)\n",
    "    inv_lib = np.linalg.inv(A)\n",
    "\n",
    "    I = np.eye(A.shape[0])\n",
    "    error_my = np.linalg.norm(A @ inv - I)\n",
    "    error_lib = np.linalg.norm(A @ inv_lib - I)\n",
    "    \n",
    "    return error_my, error_lib\n",
    "\n",
    "INV_TESTS = [\n",
    "    (\"LU Inverse\", test_inv, (\n",
    "        (np.array([[1, 0, 3], [0, 3, 1], [0, 0, 6]]),),\n",
    "        (np.array([[1, 4, 5], [6, 8, 22], [32, 5, 5]]),),\n",
    "        (noisy_matrix(5),),\n",
    "        (noisy_matrix(7),),\n",
    "        (noisy_matrix(9),),\n",
    "        (noisy_matrix(11),),\n",
    "        (noisy_matrix(13),),\n",
    "        (hilbert_generator(5),),\n",
    "        (hilbert_generator(7),),\n",
    "        (hilbert_generator(9),),\n",
    "        (hilbert_generator(11),),\n",
    "        (hilbert_generator(13),)\n",
    "    ))\n",
    "]\n",
    "\n",
    "\n",
    "for name, func, args in INV_TESTS:\n",
    "    results = []\n",
    "    print(f\"TEST {name}\")\n",
    "    for A in args:\n",
    "        results.append(func(*A))\n",
    "    print(tabulate.tabulate(results, headers=[\"error_my\", \"error_lib\"]))\n",
    "    print(\"=\"*80)\n",
    "    print()\n",
    "\n"
   ]
  },
  {
   "cell_type": "code",
   "execution_count": null,
   "metadata": {},
   "outputs": [],
   "source": []
  }
 ],
 "metadata": {
  "kernelspec": {
   "name": "python3",
   "display_name": "Python 3.8.7 64-bit",
   "metadata": {
    "interpreter": {
     "hash": "61b30e7c0ad0a7503235621ec1f7aac7787ff347c675f9207a0e58a383ffefa9"
    }
   }
  },
  "language_info": {
   "codemirror_mode": {
    "name": "ipython",
    "version": 2
   },
   "file_extension": ".py",
   "mimetype": "text/x-python",
   "name": "python",
   "nbconvert_exporter": "python",
   "pygments_lexer": "ipython2",
   "version": "3.8.7-final"
  }
 },
 "nbformat": 4,
 "nbformat_minor": 0
}