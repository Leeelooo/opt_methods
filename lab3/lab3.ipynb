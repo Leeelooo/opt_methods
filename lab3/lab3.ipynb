{
 "cells": [
  {
   "cell_type": "code",
   "execution_count": 15,
   "outputs": [],
   "source": [
    "import numpy as np\n",
    "from scipy.sparse import csr_matrix\n"
   ],
   "metadata": {
    "collapsed": false,
    "pycharm": {
     "name": "#%%\n"
    }
   }
  },
  {
   "cell_type": "code",
   "execution_count": 16,
   "outputs": [],
   "source": [
    "\n",
    "def lu(A):\n",
    "    assert len(A.shape) == 2, \"only 2d matrices are supported\"\n",
    "    assert A.shape[0] == A.shape[1], \"only nxn matrices are supported\"\n",
    "    n = A.shape[0]\n",
    "\n",
    "    L = np.zeros(A.shape)\n",
    "    U = np.zeros(A.shape)\n",
    "\n",
    "    for i in range(n):\n",
    "        L[i, i] = 1\n",
    "        for k in range(i, n):\n",
    "            U[i, k] = A[i, k] - np.sum(L[i] * U[:, k])\n",
    "\n",
    "        for k in range(i + 1, n):\n",
    "            L[k, i] = (A[k, i] - np.sum(L[k] * U[:, i])) / U[i, i]\n",
    "\n",
    "    return csr_matrix(L), csr_matrix(U)\n"
   ],
   "metadata": {
    "collapsed": false,
    "pycharm": {
     "name": "#%%\n"
    }
   }
  },
  {
   "cell_type": "code",
   "execution_count": null,
   "outputs": [],
   "source": [
    "def inverse_matrix(L,U):\n",
    "    return np.linalg.inv(L) * np.linalg.inv(U) #for now\n"
   ],
   "metadata": {
    "collapsed": false,
    "pycharm": {
     "name": "#%%\n"
    }
   }
  },
  {
   "cell_type": "code",
   "execution_count": 17,
   "outputs": [
    {
     "name": "stdout",
     "output_type": "stream",
     "text": [
      "[[1. 0. 0.]\n",
      " [0. 1. 0.]\n",
      " [0. 0. 1.]]\n",
      "[[1. 0. 3.]\n",
      " [0. 3. 1.]\n",
      " [0. 0. 6.]]\n"
     ]
    }
   ],
   "source": [
    "\n",
    "matrix = csr_matrix([\n",
    "    [1, 0, 3],\n",
    "    [0, 3, 1],\n",
    "    [0, 0, 6]\n",
    "], shape=(3, 3))\n",
    "L, U = lu(matrix)\n",
    "print(L.toarray())\n",
    "print(U.toarray())\n",
    "\n"
   ],
   "metadata": {
    "collapsed": false,
    "pycharm": {
     "name": "#%%\n"
    }
   }
  }
 ],
 "metadata": {
  "kernelspec": {
   "name": "pycharm-ed6a44e7",
   "language": "python",
   "display_name": "PyCharm (ml)"
  },
  "language_info": {
   "codemirror_mode": {
    "name": "ipython",
    "version": 2
   },
   "file_extension": ".py",
   "mimetype": "text/x-python",
   "name": "python",
   "nbconvert_exporter": "python",
   "pygments_lexer": "ipython2",
   "version": "2.7.6"
  }
 },
 "nbformat": 4,
 "nbformat_minor": 0
}