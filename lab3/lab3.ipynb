{
 "cells": [
  {
   "cell_type": "markdown",
   "metadata": {},
   "source": [
    "# Лабораторная работа №3\n",
    "\n",
    "Бельтюков Даниил Евгеньевич M33031\n",
    "\n",
    "Горин Антон M33031"
   ]
  },
  {
   "cell_type": "code",
   "execution_count": 132,
   "metadata": {},
   "outputs": [],
   "source": [
    "import numpy as np\n",
    "import scipy.linalg\n",
    "import scipy.sparse.linalg\n",
    "from scipy.sparse import csr_matrix, csc_matrix, eye\n",
    "from IPython.display import display, HTML\n",
    "from tabulate import tabulate"
   ]
  },
  {
   "cell_type": "code",
   "execution_count": 133,
   "metadata": {},
   "outputs": [],
   "source": [
    "def pretty(*args, **kwargs):\n",
    "    display(HTML(tabulate(*args, **kwargs, tablefmt='html')))"
   ]
  },
  {
   "cell_type": "code",
   "execution_count": 134,
   "metadata": {
    "pycharm": {
     "name": "#%%\n"
    }
   },
   "outputs": [],
   "source": [
    "def _check_square(A):\n",
    "    assert len(A.shape) == 2, \"only 2d matrices are supported\"\n",
    "    assert A.shape[0] == A.shape[1], \"only nxn matrices are supported\"\n",
    "\n",
    "\n",
    "def lu_doolittle(A):\n",
    "    _check_square(A)\n",
    "\n",
    "    n = A.shape[0]\n",
    "\n",
    "    if isinstance(A, csr_matrix):\n",
    "        L = eye(n, dtype=np.double, format=\"csr\")\n",
    "        U = csr_matrix((n, n), dtype=np.double)\n",
    "    else:\n",
    "        L = np.eye(n, dtype=np.double)\n",
    "        U = np.zeros((n, n), dtype=np.double)\n",
    "\n",
    "    with np.errstate(divide=\"ignore\", invalid=\"ignore\"):\n",
    "        for k in range(n):\n",
    "            U[k, k:] = A[k, k:] - L[k, :k] @ U[:k, k:]\n",
    "            L[(k+1):, k] = (A[(k+1):, k] - L[(k+1):, :] @ U[:, k]) / U[k, k]\n",
    "\n",
    "        if isinstance(A, np.ndarray):\n",
    "            L[~np.isfinite(L)] = 0\n",
    "\n",
    "    return L, U"
   ]
  },
  {
   "cell_type": "code",
   "execution_count": 135,
   "metadata": {
    "pycharm": {
     "name": "#%%\n"
    }
   },
   "outputs": [],
   "source": [
    "def noisy_matrix(n):\n",
    "    np.random.seed(59005)\n",
    "\n",
    "    matrix = -np.random.choice(5, size=(n, n)).astype(np.double)\n",
    "    for i in range(n):\n",
    "        matrix[i, i] = -(np.sum(matrix[i]) - matrix[i, i]) + 10 ** -n\n",
    "\n",
    "    return matrix\n",
    "\n",
    "\n",
    "def hilbert_generator(n): return np.fromfunction(lambda i, j: 1 / (i + j + 1),\n",
    "                                                 (n, n), dtype=np.float)  # since we are starting from i=0 and j=0"
   ]
  },
  {
   "cell_type": "code",
   "execution_count": 136,
   "metadata": {},
   "outputs": [
    {
     "name": "stdout",
     "output_type": "stream",
     "text": [
      "TEST LU Decomposition\n"
     ]
    },
    {
     "data": {
      "text/html": [
       "<table>\n",
       "<thead>\n",
       "<tr><th style=\"text-align: right;\">   error_my</th><th style=\"text-align: right;\">  error_lib</th></tr>\n",
       "</thead>\n",
       "<tbody>\n",
       "<tr><td style=\"text-align: right;\">0          </td><td style=\"text-align: right;\">0          </td></tr>\n",
       "<tr><td style=\"text-align: right;\">0          </td><td style=\"text-align: right;\">4.44089e-16</td></tr>\n",
       "<tr><td style=\"text-align: right;\">1.22933e-15</td><td style=\"text-align: right;\">2.39407e-15</td></tr>\n",
       "<tr><td style=\"text-align: right;\">1.97308e-15</td><td style=\"text-align: right;\">2.86255e-15</td></tr>\n",
       "<tr><td style=\"text-align: right;\">2.13282e-15</td><td style=\"text-align: right;\">6.78133e-15</td></tr>\n",
       "<tr><td style=\"text-align: right;\">6.88354e-15</td><td style=\"text-align: right;\">8.15886e-15</td></tr>\n",
       "<tr><td style=\"text-align: right;\">5.14047e-15</td><td style=\"text-align: right;\">1.23981e-14</td></tr>\n",
       "<tr><td style=\"text-align: right;\">4.16334e-17</td><td style=\"text-align: right;\">0          </td></tr>\n",
       "<tr><td style=\"text-align: right;\">4.80741e-17</td><td style=\"text-align: right;\">5.19259e-17</td></tr>\n",
       "<tr><td style=\"text-align: right;\">5.76388e-17</td><td style=\"text-align: right;\">7.07631e-17</td></tr>\n",
       "<tr><td style=\"text-align: right;\">6.43487e-17</td><td style=\"text-align: right;\">7.31058e-17</td></tr>\n",
       "<tr><td style=\"text-align: right;\">6.61928e-17</td><td style=\"text-align: right;\">8.18084e-17</td></tr>\n",
       "<tr><td style=\"text-align: right;\">7.44181e-15</td><td style=\"text-align: right;\">9.51754e-15</td></tr>\n",
       "</tbody>\n",
       "</table>"
      ],
      "text/plain": [
       "<IPython.core.display.HTML object>"
      ]
     },
     "metadata": {},
     "output_type": "display_data"
    }
   ],
   "source": [
    "def test_lu(A):\n",
    "    L, U = lu_doolittle(A)\n",
    "    A_1 = L @ U\n",
    "\n",
    "    if isinstance(A, csr_matrix):\n",
    "        A_1 = A_1.A\n",
    "        n = A.shape[0]\n",
    "        lu = scipy.sparse.linalg.splu(A)\n",
    "        Pr = csc_matrix((np.ones(n), (lu.perm_r, np.arange(n))))\n",
    "        Pc = csc_matrix((np.ones(n), (np.arange(n), lu.perm_c)))\n",
    "        error_lib = np.linalg.norm(A - (Pr.T * (lu.L * lu.U) * Pc.T).A)\n",
    "    else:\n",
    "        P, L, U = scipy.linalg.lu(A)\n",
    "        error_lib = np.linalg.norm(A - P @ L @ U)\n",
    "\n",
    "    error_my = np.linalg.norm(A - A_1)\n",
    "        \n",
    "    return error_my, error_lib\n",
    "\n",
    "\n",
    "LU_TESTS = [\n",
    "    (\"LU Decomposition\", test_lu, (\n",
    "        (np.array([[1, 0, 3], [0, 3, 1], [0, 0, 6]]),),\n",
    "        (np.array([[1, 4, 5], [6, 8, 22], [32, 5, 5]]),),\n",
    "        (noisy_matrix(5),),\n",
    "        (noisy_matrix(7),),\n",
    "        (noisy_matrix(9),),\n",
    "        (noisy_matrix(11),),\n",
    "        (noisy_matrix(13),),\n",
    "        (hilbert_generator(5),),\n",
    "        (hilbert_generator(7),),\n",
    "        (hilbert_generator(9),),\n",
    "        (hilbert_generator(11),),\n",
    "        (hilbert_generator(13),),\n",
    "        (csr_matrix(noisy_matrix(11)),)\n",
    "    ))\n",
    "]\n",
    "\n",
    "\n",
    "for name, func, args in LU_TESTS:\n",
    "    results = []\n",
    "    print(f\"TEST {name}\")\n",
    "    for A in args:\n",
    "        results.append(func(*A))\n",
    "    pretty(results, headers=[\"error_my\", \"error_lib\"])"
   ]
  },
  {
   "cell_type": "code",
   "execution_count": 137,
   "metadata": {},
   "outputs": [],
   "source": [
    "def forward_substitution(L, b):\n",
    "    _check_square(L)\n",
    "\n",
    "    n = L.shape[0]\n",
    "\n",
    "    if isinstance(L, csr_matrix):\n",
    "        y = csc_matrix((n, 1), dtype=np.double)\n",
    "        \n",
    "    else:\n",
    "        assert L.shape[0] == b.shape[0]\n",
    "        y = np.zeros_like(b, dtype=np.double)\n",
    "\n",
    "    y[0] = b[0] / L[0, 0]\n",
    "\n",
    "    for i in range(1, n):\n",
    "        y[i] = (b[i] - np.dot(L[i, :i], y[:i])) / L[i, i]\n",
    "\n",
    "    return y\n",
    "\n",
    "\n",
    "def back_substitution(U, y):\n",
    "    _check_square(U)\n",
    "\n",
    "    n = U.shape[0]\n",
    "\n",
    "    if isinstance(U, csr_matrix):\n",
    "        x = csc_matrix((n, 1), dtype=np.double)\n",
    "        \n",
    "    else:\n",
    "        assert U.shape[0] == y.shape[0]\n",
    "        x = np.zeros_like(y, dtype=np.double)\n",
    "\n",
    "    x[-1] = y[-1] / U[-1, -1]\n",
    "\n",
    "    for i in range(n-2, -1, -1):\n",
    "        x[i] = (y[i] - np.dot(U[i, i:], x[i:])) / U[i, i]\n",
    "\n",
    "    return x\n",
    "\n",
    "\n",
    "def lu_solve(A, b):\n",
    "    if isinstance(A, np.ndarray):\n",
    "        assert A.shape[0] == b.shape[0]  # (5, 5) and (5, )\n",
    "\n",
    "    L, U = lu_doolittle(A)\n",
    "\n",
    "    y = forward_substitution(L, b)\n",
    "\n",
    "    return back_substitution(U, y)"
   ]
  },
  {
   "cell_type": "code",
   "execution_count": 138,
   "metadata": {},
   "outputs": [
    {
     "name": "stdout",
     "output_type": "stream",
     "text": [
      "TEST LU Solve\n"
     ]
    },
    {
     "name": "stderr",
     "output_type": "stream",
     "text": [
      "<ipython-input-138-9036bde03575>:9: LinAlgWarning: Ill-conditioned matrix (rcond=1.1721e-18): result may not be accurate.\n",
      "  error_lib = np.linalg.norm(A @ scipy.linalg.solve(A, b) - b)\n"
     ]
    },
    {
     "data": {
      "text/html": [
       "<table>\n",
       "<thead>\n",
       "<tr><th style=\"text-align: right;\">   error_my</th><th style=\"text-align: right;\">  error_lib</th></tr>\n",
       "</thead>\n",
       "<tbody>\n",
       "<tr><td style=\"text-align: right;\">0          </td><td style=\"text-align: right;\">0          </td></tr>\n",
       "<tr><td style=\"text-align: right;\">1.37596e-14</td><td style=\"text-align: right;\">1.77636e-15</td></tr>\n",
       "<tr><td style=\"text-align: right;\">2.88624e-14</td><td style=\"text-align: right;\">1.28095e-14</td></tr>\n",
       "<tr><td style=\"text-align: right;\">4.08176e-14</td><td style=\"text-align: right;\">6.59887e-14</td></tr>\n",
       "<tr><td style=\"text-align: right;\">7.41828e-14</td><td style=\"text-align: right;\">9.76835e-14</td></tr>\n",
       "<tr><td style=\"text-align: right;\">1.21625e-13</td><td style=\"text-align: right;\">9.31868e-14</td></tr>\n",
       "<tr><td style=\"text-align: right;\">0          </td><td style=\"text-align: right;\">0          </td></tr>\n",
       "<tr><td style=\"text-align: right;\">9.93014e-16</td><td style=\"text-align: right;\">9.93014e-16</td></tr>\n",
       "<tr><td style=\"text-align: right;\">9.93014e-16</td><td style=\"text-align: right;\">8.88178e-16</td></tr>\n",
       "<tr><td style=\"text-align: right;\">1.83103e-15</td><td style=\"text-align: right;\">1.33227e-15</td></tr>\n",
       "<tr><td style=\"text-align: right;\">5.1022e-15 </td><td style=\"text-align: right;\">2.51215e-15</td></tr>\n",
       "<tr><td style=\"text-align: right;\">1.11288e-14</td><td style=\"text-align: right;\">3.55271e-15</td></tr>\n",
       "</tbody>\n",
       "</table>"
      ],
      "text/plain": [
       "<IPython.core.display.HTML object>"
      ]
     },
     "metadata": {},
     "output_type": "display_data"
    }
   ],
   "source": [
    "def test_solve(A, b):\n",
    "    x = lu_solve(A, b)\n",
    "    \n",
    "    if isinstance(A, csr_matrix):\n",
    "        error_my = np.linalg.norm((A @ x - b).A)\n",
    "        error_lib = np.linalg.norm(A @ scipy.sparse.linalg.spsolve(A, b) - b.A.ravel())\n",
    "    else:\n",
    "        error_my = np.linalg.norm(A @ x - b)\n",
    "        error_lib = np.linalg.norm(A @ scipy.linalg.solve(A, b) - b)\n",
    "\n",
    "    return error_my, error_lib\n",
    "\n",
    "\n",
    "SOLVE_TESTS = [\n",
    "    (\"LU Solve\", test_solve, (\n",
    "        (\n",
    "            (np.array([[1, 4, 5], [6, 8, 22], [32, 5, 5]]),\n",
    "             np.array([1, 2, 3.]))\n",
    "        ),\n",
    "        (\n",
    "            (noisy_matrix(5), np.dot(noisy_matrix(5), np.arange(1, 6)))\n",
    "        ),\n",
    "        (\n",
    "            (noisy_matrix(7), np.dot(noisy_matrix(7), np.arange(1, 8)))\n",
    "        ),\n",
    "        (\n",
    "            (noisy_matrix(9), np.dot(noisy_matrix(9), np.arange(1, 10)))\n",
    "        ),\n",
    "        (\n",
    "            (noisy_matrix(11), np.dot(noisy_matrix(11), np.arange(1, 12)))\n",
    "        ),\n",
    "        (\n",
    "            (noisy_matrix(13), np.dot(noisy_matrix(13), np.arange(1, 14)))\n",
    "        ),\n",
    "        (\n",
    "            (hilbert_generator(5), np.dot(hilbert_generator(5), np.arange(1, 6)))\n",
    "        ),\n",
    "        (\n",
    "            (hilbert_generator(7), np.dot(hilbert_generator(7), np.arange(1, 8)))\n",
    "        ),\n",
    "        (\n",
    "            (hilbert_generator(9), np.dot(hilbert_generator(9), np.arange(1, 10)))\n",
    "        ),\n",
    "        (\n",
    "            (hilbert_generator(11), np.dot(hilbert_generator(11), np.arange(1, 12)))\n",
    "        ),\n",
    "        (\n",
    "            (hilbert_generator(13), np.dot(hilbert_generator(13), np.arange(1, 14)))\n",
    "        ),\n",
    "        (\n",
    "            (csr_matrix(noisy_matrix(5)), csr_matrix(np.dot(noisy_matrix(5), np.arange(1, 6))).T)\n",
    "        ),\n",
    "    ))\n",
    "]\n",
    "\n",
    "\n",
    "for name, func, args in SOLVE_TESTS:\n",
    "    results = []\n",
    "    print(f\"TEST {name}\")\n",
    "    for A in args:\n",
    "        results.append(func(*A))\n",
    "    pretty(results, headers=[\"error_my\", \"error_lib\"])"
   ]
  },
  {
   "cell_type": "code",
   "execution_count": 139,
   "metadata": {},
   "outputs": [],
   "source": [
    "def lu_inverse(A):\n",
    "    _check_square(A)\n",
    "\n",
    "    n = A.shape[0]\n",
    "\n",
    "    if isinstance(A, csr_matrix):\n",
    "        b = eye(n, dtype=np.double, format=\"csr\")\n",
    "        A_inv = csr_matrix((n, n), dtype=\"double\")\n",
    "    else:\n",
    "        b = np.eye(n, dtype=np.double)\n",
    "        A_inv = np.zeros_like(A, dtype=np.double)\n",
    "\n",
    "    L, U = lu_doolittle(A)\n",
    "\n",
    "    for i in range(n):\n",
    "        y = forward_substitution(L, b[:, i])\n",
    "        A_inv[:, i] = back_substitution(U, y)\n",
    "\n",
    "    return A_inv"
   ]
  },
  {
   "cell_type": "code",
   "execution_count": 140,
   "metadata": {},
   "outputs": [
    {
     "name": "stdout",
     "output_type": "stream",
     "text": [
      "TEST LU Inverse\n"
     ]
    },
    {
     "data": {
      "text/html": [
       "<table>\n",
       "<thead>\n",
       "<tr><th style=\"text-align: right;\">   error_my</th><th style=\"text-align: right;\">  error_lib</th></tr>\n",
       "</thead>\n",
       "<tbody>\n",
       "<tr><td style=\"text-align: right;\">2.77556e-17</td><td style=\"text-align: right;\">2.77556e-17</td></tr>\n",
       "<tr><td style=\"text-align: right;\">2.21384e-15</td><td style=\"text-align: right;\">2.93163e-16</td></tr>\n",
       "<tr><td style=\"text-align: right;\">6.66998e-11</td><td style=\"text-align: right;\">8.15414e-11</td></tr>\n",
       "<tr><td style=\"text-align: right;\">1.53919e-08</td><td style=\"text-align: right;\">2.11803e-08</td></tr>\n",
       "<tr><td style=\"text-align: right;\">2.01844e-06</td><td style=\"text-align: right;\">2.61754e-06</td></tr>\n",
       "<tr><td style=\"text-align: right;\">0.000295323</td><td style=\"text-align: right;\">0.000366117</td></tr>\n",
       "<tr><td style=\"text-align: right;\">0.0322998  </td><td style=\"text-align: right;\">0.0416395  </td></tr>\n",
       "<tr><td style=\"text-align: right;\">5.45164e-12</td><td style=\"text-align: right;\">3.17921e-12</td></tr>\n",
       "<tr><td style=\"text-align: right;\">8.29727e-09</td><td style=\"text-align: right;\">4.60757e-09</td></tr>\n",
       "<tr><td style=\"text-align: right;\">6.15661e-06</td><td style=\"text-align: right;\">4.4322e-06 </td></tr>\n",
       "<tr><td style=\"text-align: right;\">0.00729297 </td><td style=\"text-align: right;\">0.00468954 </td></tr>\n",
       "<tr><td style=\"text-align: right;\">4.65734    </td><td style=\"text-align: right;\">2.25064    </td></tr>\n",
       "<tr><td style=\"text-align: right;\">0.000346169</td><td style=\"text-align: right;\">0.000381076</td></tr>\n",
       "</tbody>\n",
       "</table>"
      ],
      "text/plain": [
       "<IPython.core.display.HTML object>"
      ]
     },
     "metadata": {},
     "output_type": "display_data"
    }
   ],
   "source": [
    "def test_inv(A):\n",
    "    inv = lu_inverse(A)\n",
    "    \n",
    "    if isinstance(A, csr_matrix):\n",
    "        inv_lib = scipy.sparse.linalg.inv(A)\n",
    "        I = eye(A.shape[0], dtype=np.double, format=\"csr\")\n",
    "        error_my = np.linalg.norm((A @ inv - I).A)\n",
    "        error_lib = np.linalg.norm((A @ inv_lib - I).A)\n",
    "    else:\n",
    "        # High mistake on small numbers\n",
    "        # inv_lib = scipy.linalg.inv(A)\n",
    "        inv_lib = np.linalg.inv(A)\n",
    "        I = np.eye(A.shape[0])\n",
    "        error_my = np.linalg.norm(A @ inv - I)\n",
    "        error_lib = np.linalg.norm(A @ inv_lib - I)\n",
    "    \n",
    "    return error_my, error_lib\n",
    "\n",
    "INV_TESTS = [\n",
    "    (\"LU Inverse\", test_inv, (\n",
    "        (np.array([[1, 0, 3], [0, 3, 1], [0, 0, 6]]),),\n",
    "        (np.array([[1, 4, 5], [6, 8, 22], [32, 5, 5]]),),\n",
    "        (noisy_matrix(5),),\n",
    "        (noisy_matrix(7),),\n",
    "        (noisy_matrix(9),),\n",
    "        (noisy_matrix(11),),\n",
    "        (noisy_matrix(13),),\n",
    "        (hilbert_generator(5),),\n",
    "        (hilbert_generator(7),),\n",
    "        (hilbert_generator(9),),\n",
    "        (hilbert_generator(11),),\n",
    "        (hilbert_generator(13),),\n",
    "        (csr_matrix(noisy_matrix(11)),)\n",
    "    ))\n",
    "]\n",
    "\n",
    "\n",
    "for name, func, args in INV_TESTS:\n",
    "    results = []\n",
    "    print(f\"TEST {name}\")\n",
    "    for A in args:\n",
    "        results.append(func(*A))\n",
    "    pretty(results, headers=[\"error_my\", \"error_lib\"])"
   ]
  },
  {
   "cell_type": "markdown",
   "metadata": {},
   "source": [
    "## Вывод\n",
    "\n",
    "LU-разложение позволяет эффективно решать системы уравнений $Ax = b$ для фиксированной $A$. Быстрее, чем метод Гаусса, а то есть за $O(2n^2)$ вместо $O(\\frac{1}{3} n^3)$ на каждую систему.\n",
    "\n",
    "Нахождение обратной матрицы с помощью LU-разложения находится за $O(n^3)$.\n",
    "\n",
    "Стоит отметить, что L2 норма ошибки растет пропорционально увеличению размерности матрицы. Такое поведение наблюдается аналогично в реализации методов из библиотек `numpy` и `scipy`.\n",
    "\n",
    "Все реализованные методы поддерживают работу с разреженными матрицами в CSR формате."
   ]
  }
 ],
 "metadata": {
  "kernelspec": {
   "display_name": "Python 3",
   "language": "python",
   "name": "python3"
  },
  "language_info": {
   "codemirror_mode": {
    "name": "ipython",
    "version": 3
   },
   "file_extension": ".py",
   "mimetype": "text/x-python",
   "name": "python",
   "nbconvert_exporter": "python",
   "pygments_lexer": "ipython3",
   "version": "3.8.5"
  }
 },
 "nbformat": 4,
 "nbformat_minor": 1
}
