{
 "cells": [
  {
   "cell_type": "code",
   "execution_count": null,
   "metadata": {
    "collapsed": true
   },
   "outputs": [],
   "source": [
    "import numpy as np\n",
    "from scipy.sparse import csr_matrix"
   ]
  },
  {
   "cell_type": "code",
   "execution_count": null,
   "outputs": [],
   "source": [
    "def lu(A):\n",
    "    assert len(A.shape) == 2, \"only 2d matrices are supported\"\n",
    "    assert A.shape[0] == A.shape[1], \"only nxn matrices are supported\"\n",
    "\n",
    "    n = A.shape[0]\n",
    "    L, U = np.zeros_like(A), np.zeros_like(A)\n",
    "\n",
    "    for i in range(n):\n",
    "        L[i, i] = 1\n",
    "\n",
    "        for k in range(i, n):\n",
    "            U[i, k] = A[i, k] - np.sum(L[i] * U[:, k])\n",
    "\n",
    "        for k in range(i + 1, n):\n",
    "            L[k, i] = (A[k, i] - np.sum(L[i] * U[:, k])) / U[i, i]\n",
    "\n",
    "    return csr_matrix(L), csr_matrix(U)\n"
   ],
   "metadata": {
    "collapsed": false,
    "pycharm": {
     "name": "#%%\n"
    }
   }
  },
  {
   "cell_type": "code",
   "execution_count": null,
   "outputs": [],
   "source": [
    "\n",
    "matrix = csr_matrix([\n",
    "    [1, 0, 3],\n",
    "    [0, 3, 1],\n",
    "    [0, 0, 6]\n",
    "], shape=(3, 3))\n",
    "L, U = lu(matrix)\n",
    "print(L.toarray())\n",
    "print(U.toarray())\n"
   ],
   "metadata": {
    "collapsed": false,
    "pycharm": {
     "name": "#%%\n"
    }
   }
  }
 ],
 "metadata": {
  "kernelspec": {
   "display_name": "Python 3",
   "language": "python",
   "name": "python3"
  },
  "language_info": {
   "codemirror_mode": {
    "name": "ipython",
    "version": 2
   },
   "file_extension": ".py",
   "mimetype": "text/x-python",
   "name": "python",
   "nbconvert_exporter": "python",
   "pygments_lexer": "ipython2",
   "version": "2.7.6"
  }
 },
 "nbformat": 4,
 "nbformat_minor": 0
}